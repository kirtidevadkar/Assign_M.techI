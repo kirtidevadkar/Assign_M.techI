{
  "nbformat": 4,
  "nbformat_minor": 0,
  "metadata": {
    "colab": {
      "provenance": []
    },
    "kernelspec": {
      "name": "python3",
      "display_name": "Python 3"
    },
    "language_info": {
      "name": "python"
    }
  },
  "cells": [
    {
      "cell_type": "code",
      "execution_count": 3,
      "metadata": {
        "colab": {
          "base_uri": "https://localhost:8080/"
        },
        "id": "vJ8NXAy8enSi",
        "outputId": "095e314c-239f-4c4f-8142-0f301ef05fb3"
      },
      "outputs": [
        {
          "output_type": "stream",
          "name": "stdout",
          "text": [
            "🔹 Step 1: Frequency of 1-itemsets:\n",
            "   {'A'} → Frequency: 4\n",
            "   {'B'} → Frequency: 4\n",
            "   {'C'} → Frequency: 4\n",
            "\n",
            "🔹 Step 2: Frequency of 2-itemsets:\n",
            "   {'A', 'B'} → Frequency: 3\n",
            "   {'A', 'C'} → Frequency: 3\n",
            "   {'B', 'C'} → Frequency: 3\n",
            "\n",
            "🔹 Step 3: Frequency of 3-itemsets:\n",
            "   {'A', 'B', 'C'} → Frequency: 2\n",
            "\n",
            "🔹 Step 4: Frequency of 4-itemsets:\n",
            "\n",
            "🔹 Step 5: Frequent Itemsets from Apriori:\n",
            "   {'A'} → Support: 80.00%\n",
            "   {'B'} → Support: 80.00%\n",
            "   {'C'} → Support: 80.00%\n",
            "   {'A', 'B'} → Support: 60.00%\n",
            "   {'A', 'C'} → Support: 60.00%\n",
            "   {'B', 'C'} → Support: 60.00%\n",
            "   {'A', 'B', 'C'} → Support: 40.00%\n",
            "\n",
            "🔹 Step 6: Association Rules (Confidence Only):\n",
            "   {'A'} → {'B'} → Confidence: 75.00%\n",
            "   {'B'} → {'A'} → Confidence: 75.00%\n",
            "   {'A'} → {'C'} → Confidence: 75.00%\n",
            "   {'C'} → {'A'} → Confidence: 75.00%\n",
            "   {'B'} → {'C'} → Confidence: 75.00%\n",
            "   {'C'} → {'B'} → Confidence: 75.00%\n"
          ]
        }
      ],
      "source": [
        "from collections import Counter\n",
        "from itertools import combinations\n",
        "import pandas as pd\n",
        "from mlxtend.frequent_patterns import apriori, association_rules\n",
        "from mlxtend.preprocessing import TransactionEncoder\n",
        "\n",
        "# Sample dataset of transactions\n",
        "transactions = [\n",
        "    {'A', 'B', 'C'},\n",
        "    {'A', 'B'},\n",
        "    {'A', 'C'},\n",
        "    {'B', 'C'},\n",
        "    {'A', 'B', 'C'}\n",
        "]\n",
        "\n",
        "# Convert the dataset into a format suitable for Apriori using TransactionEncoder\n",
        "te = TransactionEncoder()\n",
        "te_ary = te.fit(transactions).transform(transactions)\n",
        "df = pd.DataFrame(te_ary, columns=te.columns_)\n",
        "\n",
        "# Function to generate itemsets of various sizes\n",
        "def generate_itemsets(transactions, size):\n",
        "    itemsets = Counter()\n",
        "    for transaction in transactions:\n",
        "        for itemset in combinations(sorted(transaction), size):\n",
        "            itemsets[frozenset(itemset)] += 1\n",
        "    return itemsets\n",
        "\n",
        "# Step 1: Frequency of 1-itemsets\n",
        "print(\"🔹 Step 1: Frequency of 1-itemsets:\")\n",
        "itemset_1_freq = Counter({frozenset([item]): df[item].sum() for item in df.columns})\n",
        "for itemset, freq in itemset_1_freq.items():\n",
        "    print(f\"   {set(itemset)} → Frequency: {freq}\")\n",
        "\n",
        "# Step 2: Frequency of 2-itemsets\n",
        "print(\"\\n🔹 Step 2: Frequency of 2-itemsets:\")\n",
        "itemset_2_freq = generate_itemsets(transactions, 2)\n",
        "for itemset, freq in itemset_2_freq.items():\n",
        "    print(f\"   {set(itemset)} → Frequency: {freq}\")\n",
        "\n",
        "# Step 3: Frequency of 3-itemsets\n",
        "print(\"\\n🔹 Step 3: Frequency of 3-itemsets:\")\n",
        "itemset_3_freq = generate_itemsets(transactions, 3)\n",
        "for itemset, freq in itemset_3_freq.items():\n",
        "    print(f\"   {set(itemset)} → Frequency: {freq}\")\n",
        "\n",
        "# Step 4: Frequency of 4-itemsets\n",
        "print(\"\\n🔹 Step 4: Frequency of 4-itemsets:\")\n",
        "itemset_4_freq = generate_itemsets(transactions, 4)\n",
        "for itemset, freq in itemset_4_freq.items():\n",
        "    print(f\"   {set(itemset)} → Frequency: {freq}\")\n",
        "\n",
        "# Step 5: Apply Apriori algorithm to find frequent itemsets with minimum support of 0.4\n",
        "frequent_itemsets = apriori(df, min_support=0.4, use_colnames=True)\n",
        "\n",
        "# Print frequent itemsets from Apriori (converted to percentage)\n",
        "print(\"\\n🔹 Step 5: Frequent Itemsets from Apriori:\")\n",
        "for _, row in frequent_itemsets.iterrows():\n",
        "    support_percentage = row['support'] * 100  # Convert support to percentage\n",
        "    print(f\"   {set(row['itemsets'])} → Support: {support_percentage:.2f}%\")\n",
        "\n",
        "# Step 6: Generate association rules with a minimum confidence of 0.7\n",
        "rules = association_rules(frequent_itemsets, metric=\"confidence\", min_threshold=0.7)\n",
        "\n",
        "# Print association rules (showing only the confidence value in percentage)\n",
        "print(\"\\n🔹 Step 6: Association Rules (Confidence Only):\")\n",
        "for _, row in rules.iterrows():\n",
        "    confidence_percentage = row['confidence'] * 100  # Convert confidence to percentage\n",
        "    print(f\"   {set(row['antecedents'])} → {set(row['consequents'])} → Confidence: {confidence_percentage:.2f}%\")\n"
      ]
    }
  ]
}